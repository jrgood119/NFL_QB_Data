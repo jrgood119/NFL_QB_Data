{
 "cells": [
  {
   "cell_type": "code",
   "execution_count": 2,
   "id": "b95ba91a",
   "metadata": {},
   "outputs": [],
   "source": [
    "import pandas as pd\n",
    "import numpy as np\n",
    "import seaborn as sns\n",
    "import matplotlib.pyplot as plt"
   ]
  },
  {
   "cell_type": "markdown",
   "id": "96bb73d7",
   "metadata": {},
   "source": [
    "Importing and then viewing data."
   ]
  },
  {
   "cell_type": "code",
   "execution_count": 3,
   "id": "dac108c8",
   "metadata": {},
   "outputs": [
    {
     "data": {
      "text/html": [
       "<div>\n",
       "<style scoped>\n",
       "    .dataframe tbody tr th:only-of-type {\n",
       "        vertical-align: middle;\n",
       "    }\n",
       "\n",
       "    .dataframe tbody tr th {\n",
       "        vertical-align: top;\n",
       "    }\n",
       "\n",
       "    .dataframe thead th {\n",
       "        text-align: right;\n",
       "    }\n",
       "</style>\n",
       "<table border=\"1\" class=\"dataframe\">\n",
       "  <thead>\n",
       "    <tr style=\"text-align: right;\">\n",
       "      <th></th>\n",
       "      <th>Year</th>\n",
       "      <th>Round</th>\n",
       "      <th>Pick</th>\n",
       "      <th>Team</th>\n",
       "      <th>Player</th>\n",
       "      <th>Pos</th>\n",
       "      <th>Age</th>\n",
       "      <th>1st Team AP</th>\n",
       "      <th>Pro Bowl</th>\n",
       "      <th>Wins</th>\n",
       "      <th>...</th>\n",
       "      <th>C_TD</th>\n",
       "      <th>C_Int</th>\n",
       "      <th>C_Int %</th>\n",
       "      <th>CR_Att</th>\n",
       "      <th>CR_Yds</th>\n",
       "      <th>CR_TD</th>\n",
       "      <th>247_Stars</th>\n",
       "      <th>247_Composite</th>\n",
       "      <th>Class</th>\n",
       "      <th>247_Rank</th>\n",
       "    </tr>\n",
       "  </thead>\n",
       "  <tbody>\n",
       "    <tr>\n",
       "      <th>0</th>\n",
       "      <td>2004</td>\n",
       "      <td>6</td>\n",
       "      <td>185.0</td>\n",
       "      <td>Philadelphia</td>\n",
       "      <td>Andy Hall</td>\n",
       "      <td>QB</td>\n",
       "      <td>23.0</td>\n",
       "      <td>0</td>\n",
       "      <td>0</td>\n",
       "      <td>0</td>\n",
       "      <td>...</td>\n",
       "      <td>NaN</td>\n",
       "      <td>NaN</td>\n",
       "      <td>NaN</td>\n",
       "      <td>NaN</td>\n",
       "      <td>NaN</td>\n",
       "      <td>NaN</td>\n",
       "      <td>NaN</td>\n",
       "      <td>NaN</td>\n",
       "      <td>NaN</td>\n",
       "      <td>NaN</td>\n",
       "    </tr>\n",
       "    <tr>\n",
       "      <th>1</th>\n",
       "      <td>2021</td>\n",
       "      <td>1</td>\n",
       "      <td>1.0</td>\n",
       "      <td>Jacksonville</td>\n",
       "      <td>Trevor Lawrence</td>\n",
       "      <td>QB</td>\n",
       "      <td>21.0</td>\n",
       "      <td>0</td>\n",
       "      <td>0</td>\n",
       "      <td>1</td>\n",
       "      <td>...</td>\n",
       "      <td>90.0</td>\n",
       "      <td>17.0</td>\n",
       "      <td>0.014938</td>\n",
       "      <td>231.0</td>\n",
       "      <td>943.0</td>\n",
       "      <td>18.0</td>\n",
       "      <td>5.0</td>\n",
       "      <td>0.9999</td>\n",
       "      <td>2018.0</td>\n",
       "      <td>1.0</td>\n",
       "    </tr>\n",
       "    <tr>\n",
       "      <th>2</th>\n",
       "      <td>2019</td>\n",
       "      <td>1</td>\n",
       "      <td>6.0</td>\n",
       "      <td>New York Giants</td>\n",
       "      <td>Daniel Jones</td>\n",
       "      <td>QB</td>\n",
       "      <td>22.0</td>\n",
       "      <td>0</td>\n",
       "      <td>0</td>\n",
       "      <td>9</td>\n",
       "      <td>...</td>\n",
       "      <td>52.0</td>\n",
       "      <td>29.0</td>\n",
       "      <td>0.022745</td>\n",
       "      <td>406.0</td>\n",
       "      <td>1323.0</td>\n",
       "      <td>17.0</td>\n",
       "      <td>NaN</td>\n",
       "      <td>NaN</td>\n",
       "      <td>NaN</td>\n",
       "      <td>NaN</td>\n",
       "    </tr>\n",
       "    <tr>\n",
       "      <th>3</th>\n",
       "      <td>2019</td>\n",
       "      <td>4</td>\n",
       "      <td>104.0</td>\n",
       "      <td>Cincinnati</td>\n",
       "      <td>Ryan Finley</td>\n",
       "      <td>QB</td>\n",
       "      <td>24.0</td>\n",
       "      <td>0</td>\n",
       "      <td>0</td>\n",
       "      <td>1</td>\n",
       "      <td>...</td>\n",
       "      <td>NaN</td>\n",
       "      <td>NaN</td>\n",
       "      <td>NaN</td>\n",
       "      <td>NaN</td>\n",
       "      <td>NaN</td>\n",
       "      <td>NaN</td>\n",
       "      <td>NaN</td>\n",
       "      <td>NaN</td>\n",
       "      <td>NaN</td>\n",
       "      <td>NaN</td>\n",
       "    </tr>\n",
       "    <tr>\n",
       "      <th>4</th>\n",
       "      <td>2018</td>\n",
       "      <td>8</td>\n",
       "      <td>300.0</td>\n",
       "      <td>New York Jets</td>\n",
       "      <td>John Wolford</td>\n",
       "      <td>QB</td>\n",
       "      <td>23.0</td>\n",
       "      <td>0</td>\n",
       "      <td>0</td>\n",
       "      <td>1</td>\n",
       "      <td>...</td>\n",
       "      <td>NaN</td>\n",
       "      <td>NaN</td>\n",
       "      <td>NaN</td>\n",
       "      <td>NaN</td>\n",
       "      <td>NaN</td>\n",
       "      <td>NaN</td>\n",
       "      <td>NaN</td>\n",
       "      <td>NaN</td>\n",
       "      <td>NaN</td>\n",
       "      <td>NaN</td>\n",
       "    </tr>\n",
       "  </tbody>\n",
       "</table>\n",
       "<p>5 rows × 42 columns</p>\n",
       "</div>"
      ],
      "text/plain": [
       "   Year  Round   Pick             Team           Player Pos   Age  \\\n",
       "0  2004      6  185.0     Philadelphia        Andy Hall  QB  23.0   \n",
       "1  2021      1    1.0     Jacksonville  Trevor Lawrence  QB  21.0   \n",
       "2  2019      1    6.0  New York Giants     Daniel Jones  QB  22.0   \n",
       "3  2019      4  104.0       Cincinnati      Ryan Finley  QB  24.0   \n",
       "4  2018      8  300.0    New York Jets     John Wolford  QB  23.0   \n",
       "\n",
       "   1st Team AP  Pro Bowl  Wins  ...  C_TD  C_Int   C_Int %  CR_Att  CR_Yds  \\\n",
       "0            0         0     0  ...   NaN    NaN       NaN     NaN     NaN   \n",
       "1            0         0     1  ...  90.0   17.0  0.014938   231.0   943.0   \n",
       "2            0         0     9  ...  52.0   29.0  0.022745   406.0  1323.0   \n",
       "3            0         0     1  ...   NaN    NaN       NaN     NaN     NaN   \n",
       "4            0         0     1  ...   NaN    NaN       NaN     NaN     NaN   \n",
       "\n",
       "   CR_TD  247_Stars  247_Composite   Class  247_Rank  \n",
       "0    NaN        NaN            NaN     NaN       NaN  \n",
       "1   18.0        5.0         0.9999  2018.0       1.0  \n",
       "2   17.0        NaN            NaN     NaN       NaN  \n",
       "3    NaN        NaN            NaN     NaN       NaN  \n",
       "4    NaN        NaN            NaN     NaN       NaN  \n",
       "\n",
       "[5 rows x 42 columns]"
      ]
     },
     "execution_count": 3,
     "metadata": {},
     "output_type": "execute_result"
    }
   ],
   "source": [
    "df = pd.read_excel('/Users/jtgood/Library/Containers/com.microsoft.Excel/Data/Desktop/QB_Data_Drafted.xlsx')\n",
    "df.head()"
   ]
  },
  {
   "cell_type": "markdown",
   "id": "fc433cdc",
   "metadata": {},
   "source": [
    "Filtering out data that's not needed.\n",
    "I'm looking for players who have thrown at least 250 NCAA passes AND 250 NFL passes."
   ]
  },
  {
   "cell_type": "code",
   "execution_count": 4,
   "id": "42cebdb2",
   "metadata": {},
   "outputs": [],
   "source": [
    "needed_data = df[['Att', 'C_Att', 'Comp_Per', 'C_Comp_Per']]\n",
    "over_250 = needed_data[needed_data['Att']>250]\n",
    "over_250_c = over_250[over_250['C_Att']>250]"
   ]
  },
  {
   "cell_type": "markdown",
   "id": "536257d4",
   "metadata": {},
   "source": [
    "Verfying that the shape is correct (the second number should be 4 for the number of columns).\n",
    "The first number signifies how many observations I'll have."
   ]
  },
  {
   "cell_type": "code",
   "execution_count": 5,
   "id": "e13e99ff",
   "metadata": {},
   "outputs": [
    {
     "data": {
      "text/plain": [
       "(141, 4)"
      ]
     },
     "execution_count": 5,
     "metadata": {},
     "output_type": "execute_result"
    }
   ],
   "source": [
    "over_250_c.shape"
   ]
  },
  {
   "cell_type": "markdown",
   "id": "9cb7bf82",
   "metadata": {},
   "source": [
    "Running a quck scatter plot to make sure my data can be plotted the way I envision.\n",
    "X axis will show a players career college completion percentage.\n",
    "Y axis will show a players career NFL completion percentage."
   ]
  },
  {
   "cell_type": "code",
   "execution_count": 6,
   "id": "c0442298",
   "metadata": {},
   "outputs": [
    {
     "data": {
      "text/plain": [
       "<AxesSubplot:xlabel='C_Comp_Per', ylabel='Comp_Per'>"
      ]
     },
     "execution_count": 6,
     "metadata": {},
     "output_type": "execute_result"
    },
    {
     "data": {
      "image/png": "[encoded data removed]",
      "text/plain": [
       "<Figure size 432x288 with 1 Axes>"
      ]
     },
     "metadata": {
      "needs_background": "light"
     },
     "output_type": "display_data"
    }
   ],
   "source": [
    "over_250_c.plot(kind='scatter', x='C_Comp_Per', y='Comp_Per')"
   ]
  },
  {
   "cell_type": "markdown",
   "id": "ceaef7f7",
   "metadata": {},
   "source": [
    "Finding the mean for NFL completion percentage for quadrant analysis."
   ]
  },
  {
   "cell_type": "code",
   "execution_count": 16,
   "id": "3fde909e",
   "metadata": {},
   "outputs": [
    {
     "data": {
      "text/plain": [
       "0.5969459954214097"
      ]
     },
     "execution_count": 16,
     "metadata": {},
     "output_type": "execute_result"
    }
   ],
   "source": [
    "over_250_c[\"Comp_Per\"].mean()"
   ]
  },
  {
   "cell_type": "markdown",
   "id": "b62b8716",
   "metadata": {},
   "source": [
    "Finding the mean for college completion percentage for quadrant analysis."
   ]
  },
  {
   "cell_type": "code",
   "execution_count": 17,
   "id": "30027415",
   "metadata": {},
   "outputs": [
    {
     "data": {
      "text/plain": [
       "0.613793361052387"
      ]
     },
     "execution_count": 17,
     "metadata": {},
     "output_type": "execute_result"
    }
   ],
   "source": [
    "over_250_c[\"C_Comp_Per\"].mean()"
   ]
  },
  {
   "cell_type": "markdown",
   "id": "10ffa17f",
   "metadata": {},
   "source": [
    "Plotting findings for quadrant analysis."
   ]
  },
  {
   "cell_type": "code",
   "execution_count": 19,
   "id": "df01f770",
   "metadata": {
    "scrolled": true
   },
   "outputs": [
    {
     "data": {
      "image/png": "[encoded data removed]",
      "text/plain": [
       "<Figure size 432x288 with 1 Axes>"
      ]
     },
     "metadata": {
      "needs_background": "light"
     },
     "output_type": "display_data"
    }
   ],
   "source": [
    "plt.figure(figsize=(6,4))\n",
    "sns.scatterplot(data=over_250_c, x='C_Comp_Per', y='Comp_Per')\n",
    "plt.title(f\"College and Pro Completion Percentage W/ > 250 Passes Thrown\")\n",
    "plt.xlabel('College Completion Percentage')\n",
    "plt.ylabel('Pro Completion Percentage')\n",
    "plt.axhline(y=over_250_c.Comp_Per.mean(), color='k', linestyle='--', linewidth=1)           \n",
    "plt.axvline(x=over_250_c.C_Comp_Per.mean(), color='k',linestyle='--', linewidth=1) \n",
    "\n",
    "plt.show()"
   ]
  },
  {
   "cell_type": "markdown",
   "id": "28d905f7",
   "metadata": {},
   "source": [
    "Observing r squared.\n",
    "Ideally, hoping for a reading of 0.9 or higher.\n",
    "A reading of 0.7 could be considered meaningful."
   ]
  },
  {
   "cell_type": "code",
   "execution_count": 8,
   "id": "5ac75e31",
   "metadata": {},
   "outputs": [
    {
     "name": "stdout",
     "output_type": "stream",
     "text": [
      "0.14441832587945116\n"
     ]
    }
   ],
   "source": [
    "x = over_250_c.C_Comp_Per\n",
    "y = over_250_c.Comp_Per\n",
    "correlation_matrix = np.corrcoef(x, y)\n",
    "correlation_xy = correlation_matrix[0,1]\n",
    "r_squared = correlation_xy**2\n",
    "print(r_squared)"
   ]
  },
  {
   "cell_type": "markdown",
   "id": "938a486e",
   "metadata": {},
   "source": [
    "After receiving a value of 0.14, there is little correlation between a players college completion percentage and their NFL completion percentage."
   ]
  },
  {
   "cell_type": "markdown",
   "id": "7cc9d67b",
   "metadata": {},
   "source": [
    "Finding out how many players have an above average NFL AND college completion percentage."
   ]
  },
  {
   "cell_type": "code",
   "execution_count": 21,
   "id": "ea6898ee",
   "metadata": {},
   "outputs": [
    {
     "data": {
      "text/plain": [
       "Att           48\n",
       "C_Att         48\n",
       "Comp_Per      48\n",
       "C_Comp_Per    48\n",
       "dtype: int64"
      ]
     },
     "execution_count": 21,
     "metadata": {},
     "output_type": "execute_result"
    }
   ],
   "source": [
    "over_250_c[(over_250_c.Comp_Per >= 0.5969459954214097) & (over_250_c.C_Comp_Per >=0.6135248499937287)].count() "
   ]
  },
  {
   "cell_type": "markdown",
   "id": "6bed707e",
   "metadata": {},
   "source": [
    "Finding out how many players have an above average NFL and a below average college completion percentage."
   ]
  },
  {
   "cell_type": "code",
   "execution_count": 22,
   "id": "eb58a41d",
   "metadata": {},
   "outputs": [
    {
     "data": {
      "text/plain": [
       "Att           26\n",
       "C_Att         26\n",
       "Comp_Per      26\n",
       "C_Comp_Per    26\n",
       "dtype: int64"
      ]
     },
     "execution_count": 22,
     "metadata": {},
     "output_type": "execute_result"
    }
   ],
   "source": [
    "over_250_c[(over_250_c.Comp_Per >= 0.5969459954214097) & (over_250_c.C_Comp_Per <0.6135248499937287)].count() "
   ]
  },
  {
   "cell_type": "markdown",
   "id": "55523d44",
   "metadata": {},
   "source": [
    "Finding out how many players have a below average NFL and an above average college completion percentage."
   ]
  },
  {
   "cell_type": "code",
   "execution_count": 23,
   "id": "51a1f3c9",
   "metadata": {},
   "outputs": [
    {
     "data": {
      "text/plain": [
       "Att           23\n",
       "C_Att         23\n",
       "Comp_Per      23\n",
       "C_Comp_Per    23\n",
       "dtype: int64"
      ]
     },
     "execution_count": 23,
     "metadata": {},
     "output_type": "execute_result"
    }
   ],
   "source": [
    "over_250_c[(over_250_c.Comp_Per < 0.5969459954214097) & (over_250_c.C_Comp_Per >=0.6135248499937287)].count() "
   ]
  },
  {
   "cell_type": "markdown",
   "id": "acee362b",
   "metadata": {},
   "source": [
    "Finding out how many players have a below average NFL AND college completion percentage."
   ]
  },
  {
   "cell_type": "code",
   "execution_count": 24,
   "id": "39bb540f",
   "metadata": {},
   "outputs": [
    {
     "data": {
      "text/plain": [
       "Att           44\n",
       "C_Att         44\n",
       "Comp_Per      44\n",
       "C_Comp_Per    44\n",
       "dtype: int64"
      ]
     },
     "execution_count": 24,
     "metadata": {},
     "output_type": "execute_result"
    }
   ],
   "source": [
    "over_250_c[(over_250_c.Comp_Per < 0.5969459954214097) & (over_250_c.C_Comp_Per < 0.6135248499937287)].count() "
   ]
  }
 ],
 "metadata": {
  "kernelspec": {
   "display_name": "Python 3",
   "language": "python",
   "name": "python3"
  },
  "language_info": {
   "codemirror_mode": {
    "name": "ipython",
    "version": 3
   },
   "file_extension": ".py",
   "mimetype": "text/x-python",
   "name": "python",
   "nbconvert_exporter": "python",
   "pygments_lexer": "ipython3",
   "version": "3.8.8"
  }
 },
 "nbformat": 4,
 "nbformat_minor": 5
}
